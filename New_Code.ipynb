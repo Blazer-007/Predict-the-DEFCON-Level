{
 "cells": [
  {
   "cell_type": "code",
   "execution_count": 1,
   "metadata": {},
   "outputs": [],
   "source": [
    "import pandas as pd\n",
    "import numpy as np\n",
    "import warnings\n",
    "import matplotlib.pyplot as plt\n",
    "from sklearn import model_selection\n",
    "from sklearn.preprocessing import LabelEncoder\n",
    "from sklearn.model_selection import train_test_split\n",
    "from sklearn.ensemble import RandomForestClassifier\n",
    "from sklearn.ensemble import GradientBoostingClassifier\n",
    "from sklearn.model_selection import GridSearchCV\n",
    "from sklearn.model_selection import cross_val_score\n",
    "from sklearn.feature_selection import SelectKBest\n",
    "from sklearn.feature_selection import chi2\n",
    "from sklearn import linear_model, metrics\n",
    "from sklearn.preprocessing import PolynomialFeatures\n",
    "from sklearn.metrics import mean_squared_error, r2_score\n",
    "import seaborn as sns\n",
    "warnings.filterwarnings('ignore')\n",
    "%matplotlib inline\n",
    "import time\n",
    "import os"
   ]
  },
  {
   "cell_type": "code",
   "execution_count": 2,
   "metadata": {},
   "outputs": [],
   "source": [
    "X = pd.read_csv('train.csv')"
   ]
  },
  {
   "cell_type": "code",
   "execution_count": 3,
   "metadata": {},
   "outputs": [
    {
     "data": {
      "text/html": [
       "<div>\n",
       "<style scoped>\n",
       "    .dataframe tbody tr th:only-of-type {\n",
       "        vertical-align: middle;\n",
       "    }\n",
       "\n",
       "    .dataframe tbody tr th {\n",
       "        vertical-align: top;\n",
       "    }\n",
       "\n",
       "    .dataframe thead th {\n",
       "        text-align: right;\n",
       "    }\n",
       "</style>\n",
       "<table border=\"1\" class=\"dataframe\">\n",
       "  <thead>\n",
       "    <tr style=\"text-align: right;\">\n",
       "      <th></th>\n",
       "      <th>Allied_Nations</th>\n",
       "      <th>Diplomatic_Meetings_Set</th>\n",
       "      <th>Percent_Of_Forces_Mobilized</th>\n",
       "      <th>Hostile_Nations</th>\n",
       "      <th>Active_Threats</th>\n",
       "      <th>Inactive_Threats</th>\n",
       "      <th>Citizen_Fear_Index</th>\n",
       "      <th>Closest_Threat_Distance(km)</th>\n",
       "      <th>Aircraft_Carriers_Responding</th>\n",
       "      <th>Troops_Mobilized(thousands)</th>\n",
       "      <th>DEFCON_Level</th>\n",
       "      <th>ID</th>\n",
       "    </tr>\n",
       "  </thead>\n",
       "  <tbody>\n",
       "    <tr>\n",
       "      <th>0</th>\n",
       "      <td>16</td>\n",
       "      <td>1</td>\n",
       "      <td>0.67</td>\n",
       "      <td>3</td>\n",
       "      <td>6.0</td>\n",
       "      <td>25.0</td>\n",
       "      <td>0.787812</td>\n",
       "      <td>324.36</td>\n",
       "      <td>1</td>\n",
       "      <td>862400.0</td>\n",
       "      <td>3</td>\n",
       "      <td>7570</td>\n",
       "    </tr>\n",
       "    <tr>\n",
       "      <th>1</th>\n",
       "      <td>8</td>\n",
       "      <td>1</td>\n",
       "      <td>0.11</td>\n",
       "      <td>2</td>\n",
       "      <td>38.0</td>\n",
       "      <td>48.0</td>\n",
       "      <td>0.419236</td>\n",
       "      <td>359.34</td>\n",
       "      <td>0</td>\n",
       "      <td>959200.0</td>\n",
       "      <td>4</td>\n",
       "      <td>12128</td>\n",
       "    </tr>\n",
       "    <tr>\n",
       "      <th>2</th>\n",
       "      <td>9</td>\n",
       "      <td>1</td>\n",
       "      <td>0.49</td>\n",
       "      <td>3</td>\n",
       "      <td>32.0</td>\n",
       "      <td>69.0</td>\n",
       "      <td>0.582232</td>\n",
       "      <td>332.84</td>\n",
       "      <td>1</td>\n",
       "      <td>836000.0</td>\n",
       "      <td>3</td>\n",
       "      <td>2181</td>\n",
       "    </tr>\n",
       "    <tr>\n",
       "      <th>3</th>\n",
       "      <td>7</td>\n",
       "      <td>0</td>\n",
       "      <td>0.30</td>\n",
       "      <td>2</td>\n",
       "      <td>31.0</td>\n",
       "      <td>52.0</td>\n",
       "      <td>0.589574</td>\n",
       "      <td>358.28</td>\n",
       "      <td>1</td>\n",
       "      <td>924000.0</td>\n",
       "      <td>3</td>\n",
       "      <td>5946</td>\n",
       "    </tr>\n",
       "    <tr>\n",
       "      <th>4</th>\n",
       "      <td>8</td>\n",
       "      <td>1</td>\n",
       "      <td>0.12</td>\n",
       "      <td>5</td>\n",
       "      <td>13.0</td>\n",
       "      <td>42.0</td>\n",
       "      <td>0.552863</td>\n",
       "      <td>364.64</td>\n",
       "      <td>0</td>\n",
       "      <td>968000.0</td>\n",
       "      <td>2</td>\n",
       "      <td>9054</td>\n",
       "    </tr>\n",
       "  </tbody>\n",
       "</table>\n",
       "</div>"
      ],
      "text/plain": [
       "   Allied_Nations  Diplomatic_Meetings_Set  Percent_Of_Forces_Mobilized  \\\n",
       "0              16                        1                         0.67   \n",
       "1               8                        1                         0.11   \n",
       "2               9                        1                         0.49   \n",
       "3               7                        0                         0.30   \n",
       "4               8                        1                         0.12   \n",
       "\n",
       "   Hostile_Nations  Active_Threats  Inactive_Threats  Citizen_Fear_Index  \\\n",
       "0                3             6.0              25.0            0.787812   \n",
       "1                2            38.0              48.0            0.419236   \n",
       "2                3            32.0              69.0            0.582232   \n",
       "3                2            31.0              52.0            0.589574   \n",
       "4                5            13.0              42.0            0.552863   \n",
       "\n",
       "   Closest_Threat_Distance(km)  Aircraft_Carriers_Responding  \\\n",
       "0                       324.36                             1   \n",
       "1                       359.34                             0   \n",
       "2                       332.84                             1   \n",
       "3                       358.28                             1   \n",
       "4                       364.64                             0   \n",
       "\n",
       "   Troops_Mobilized(thousands)  DEFCON_Level     ID  \n",
       "0                     862400.0             3   7570  \n",
       "1                     959200.0             4  12128  \n",
       "2                     836000.0             3   2181  \n",
       "3                     924000.0             3   5946  \n",
       "4                     968000.0             2   9054  "
      ]
     },
     "execution_count": 3,
     "metadata": {},
     "output_type": "execute_result"
    }
   ],
   "source": [
    "X.head()"
   ]
  },
  {
   "cell_type": "code",
   "execution_count": 4,
   "metadata": {},
   "outputs": [],
   "source": [
    "X.columns = X.columns.str.strip().str.lower().str.replace(' ', '_').str.replace('(', '').str.replace(')', '')"
   ]
  },
  {
   "cell_type": "code",
   "execution_count": 5,
   "metadata": {},
   "outputs": [
    {
     "data": {
      "text/plain": [
       "Index(['allied_nations', 'diplomatic_meetings_set',\n",
       "       'percent_of_forces_mobilized', 'hostile_nations', 'active_threats',\n",
       "       'inactive_threats', 'citizen_fear_index', 'closest_threat_distancekm',\n",
       "       'aircraft_carriers_responding', 'troops_mobilizedthousands',\n",
       "       'defcon_level', 'id'],\n",
       "      dtype='object')"
      ]
     },
     "execution_count": 5,
     "metadata": {},
     "output_type": "execute_result"
    }
   ],
   "source": [
    "X.columns"
   ]
  },
  {
   "cell_type": "code",
   "execution_count": 6,
   "metadata": {},
   "outputs": [],
   "source": [
    "y = X['defcon_level']"
   ]
  },
  {
   "cell_type": "code",
   "execution_count": 7,
   "metadata": {},
   "outputs": [],
   "source": [
    "X.drop(columns=['defcon_level'],inplace=True)"
   ]
  },
  {
   "cell_type": "code",
   "execution_count": 8,
   "metadata": {},
   "outputs": [
    {
     "name": "stdout",
     "output_type": "stream",
     "text": [
      "(10000, 11)\n"
     ]
    }
   ],
   "source": [
    "print(X.shape)"
   ]
  },
  {
   "cell_type": "code",
   "execution_count": 9,
   "metadata": {},
   "outputs": [
    {
     "name": "stdout",
     "output_type": "stream",
     "text": [
      "(10000,)\n"
     ]
    }
   ],
   "source": [
    "print(y.shape)"
   ]
  },
  {
   "cell_type": "code",
   "execution_count": 11,
   "metadata": {},
   "outputs": [],
   "source": [
    "columns = ['diplomatic_meetings_set','hostile_nations','aircraft_carriers_responding']"
   ]
  },
  {
   "cell_type": "code",
   "execution_count": 12,
   "metadata": {},
   "outputs": [],
   "source": [
    "X.drop(columns = ['diplomatic_meetings_set','hostile_nations','aircraft_carriers_responding'],axis=1,inplace=True)"
   ]
  },
  {
   "cell_type": "code",
   "execution_count": 10,
   "metadata": {},
   "outputs": [
    {
     "name": "stdout",
     "output_type": "stream",
     "text": [
      "(10000, 11)\n"
     ]
    }
   ],
   "source": [
    "print(X.shape)"
   ]
  },
  {
   "cell_type": "code",
   "execution_count": 11,
   "metadata": {},
   "outputs": [],
   "source": [
    "X_train, X_test, y_train, y_test = train_test_split(X,y, test_size=0.20,random_state=101)"
   ]
  },
  {
   "cell_type": "code",
   "execution_count": 17,
   "metadata": {},
   "outputs": [],
   "source": [
    "gb = GradientBoostingClassifier(n_estimators = 100, learning_rate= 0.03, max_depth= 10, max_features = 6, min_samples_split=1250)\n",
    "# gb = GradientBoostingClassifier(n_estimators = 125, learning_rate= 0.05, max_depth= 5, max_features = 5, min_samples_split=1250)"
   ]
  },
  {
   "cell_type": "code",
   "execution_count": 18,
   "metadata": {},
   "outputs": [
    {
     "name": "stdout",
     "output_type": "stream",
     "text": [
      "The accuracy of the Random forest classifier with 10 fold cross-validation is 0.5882043395043395\n",
      "The time taken for the classifier for 10 fold cross validation is 0.6543980518976847\n"
     ]
    }
   ],
   "source": [
    "start_gb = time.time()\n",
    "\n",
    "gb_scores = cross_val_score(gb, X, y, cv=10, scoring='accuracy')\n",
    "print('The accuracy of the Random forest classifier with 10 fold cross-validation is ' + str(gb_scores.mean()))\n",
    "\n",
    "end_gb =time.time()\n",
    "gb_time = (end_gb-start_gb)/60\n",
    "print('The time taken for the classifier for 10 fold cross validation is ' + str(gb_time))\n"
   ]
  },
  {
   "cell_type": "code",
   "execution_count": 16,
   "metadata": {},
   "outputs": [
    {
     "name": "stdout",
     "output_type": "stream",
     "text": [
      "gb Mean score :  0.574903333903334\n",
      "gb Score variance :  0.0002006773848363602\n"
     ]
    }
   ],
   "source": [
    "gb_cv_mean = np.mean(gb_scores)\n",
    "gb_cv_variance = np.var(gb_scores)\n",
    "\n",
    "print('gb Mean score : ', gb_cv_mean)\n",
    "print('gb Score variance : ', gb_cv_variance)"
   ]
  },
  {
   "cell_type": "code",
   "execution_count": 48,
   "metadata": {},
   "outputs": [
    {
     "data": {
      "text/plain": [
       "GradientBoostingClassifier(criterion='friedman_mse', init=None,\n",
       "                           learning_rate=0.05, loss='deviance', max_depth=11,\n",
       "                           max_features=5, max_leaf_nodes=None,\n",
       "                           min_impurity_decrease=0.0, min_impurity_split=None,\n",
       "                           min_samples_leaf=1, min_samples_split=500,\n",
       "                           min_weight_fraction_leaf=0.0, n_estimators=100,\n",
       "                           n_iter_no_change=None, presort='auto',\n",
       "                           random_state=None, subsample=1.0, tol=0.0001,\n",
       "                           validation_fraction=0.1, verbose=0,\n",
       "                           warm_start=False)"
      ]
     },
     "execution_count": 48,
     "metadata": {},
     "output_type": "execute_result"
    }
   ],
   "source": [
    "gb.fit(X, y)"
   ]
  },
  {
   "cell_type": "code",
   "execution_count": 49,
   "metadata": {},
   "outputs": [
    {
     "data": {
      "text/plain": [
       "73.1"
      ]
     },
     "execution_count": 49,
     "metadata": {},
     "output_type": "execute_result"
    }
   ],
   "source": [
    "gb_accuracy = gb.score(X_test, y_test)*100      \n",
    "gb_accuracy "
   ]
  },
  {
   "cell_type": "code",
   "execution_count": 50,
   "metadata": {},
   "outputs": [],
   "source": [
    "df_test = pd.read_csv('test.csv')"
   ]
  },
  {
   "cell_type": "code",
   "execution_count": 51,
   "metadata": {},
   "outputs": [],
   "source": [
    "df_test.columns = df_test.columns.str.strip().str.lower().str.replace(' ', '_').str.replace('(', '').str.replace(')', '')"
   ]
  },
  {
   "cell_type": "code",
   "execution_count": 23,
   "metadata": {},
   "outputs": [],
   "source": [
    "df_test.drop(columns = ['diplomatic_meetings_set','hostile_nations','aircraft_carriers_responding'],axis=1,inplace=True)"
   ]
  },
  {
   "cell_type": "code",
   "execution_count": 52,
   "metadata": {},
   "outputs": [],
   "source": [
    "y_pred = gb.predict(df_test)"
   ]
  },
  {
   "cell_type": "code",
   "execution_count": 53,
   "metadata": {},
   "outputs": [],
   "source": [
    "submission = pd.DataFrame({ 'ID': df_test.id.values, 'DEFCON_Level': y_pred })\n",
    "submission.to_csv(\"subm2.csv\", index=False)"
   ]
  },
  {
   "cell_type": "code",
   "execution_count": null,
   "metadata": {},
   "outputs": [],
   "source": []
  }
 ],
 "metadata": {
  "kernelspec": {
   "display_name": "Python 3",
   "language": "python",
   "name": "python3"
  },
  "language_info": {
   "codemirror_mode": {
    "name": "ipython",
    "version": 3
   },
   "file_extension": ".py",
   "mimetype": "text/x-python",
   "name": "python",
   "nbconvert_exporter": "python",
   "pygments_lexer": "ipython3",
   "version": "3.7.1"
  }
 },
 "nbformat": 4,
 "nbformat_minor": 2
}
